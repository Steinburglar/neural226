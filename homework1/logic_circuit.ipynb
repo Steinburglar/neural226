{
 "cells": [
  {
   "cell_type": "code",
   "execution_count": 39,
   "id": "e34bb0e6",
   "metadata": {},
   "outputs": [
    {
     "name": "stdout",
     "output_type": "stream",
     "text": [
      "The system has reached a fixed point.\n",
      "Fixed point reached in 4 steps.\n",
      "Current state of the circuit:\n",
      "Node | State\n",
      "------------\n",
      "pLN0 |     1\n",
      "pLN1-4 |     0\n",
      "uPN  |     1\n",
      "mPN  |     1\n",
      "CSD  |     1\n",
      "y  | -1\n"
     ]
    }
   ],
   "source": [
    "%reload_ext autoreload\n",
    "%autoreload 2\n",
    "import logic_circuit\n",
    "import numpy as np\n",
    "\n",
    "state0 = np.array([0, 0, 0, 0, 0])\n",
    "params = {'w': 0.25, 'B': 0.5, 'alpha' : 0.5}\n",
    "\n",
    "fed_circuit = logic_circuit.Circuit(state0, params, fed=True)\n",
    "fed_circuit.search_fixed_point()"
   ]
  },
  {
   "cell_type": "code",
   "execution_count": 40,
   "id": "d80dbefe",
   "metadata": {},
   "outputs": [
    {
     "name": "stdout",
     "output_type": "stream",
     "text": [
      "The system has reached a fixed point.\n",
      "Fixed point reached in 6 steps.\n",
      "Current state of the circuit:\n",
      "Node | State\n",
      "------------\n",
      "pLN0 |     0\n",
      "pLN1-4 |     1\n",
      "uPN  |     2\n",
      "mPN  |     0\n",
      "CSD  |     2\n",
      "y  | 1\n"
     ]
    }
   ],
   "source": [
    "starved_circuit = logic_circuit.Circuit(state0, params, fed=False)\n",
    "starved_circuit.search_fixed_point()"
   ]
  },
  {
   "cell_type": "markdown",
   "id": "e2e62d08",
   "metadata": {},
   "source": [
    "To do: run the 4 perturbations for fed and starved, generate 4 tables like in the pset"
   ]
  }
 ],
 "metadata": {
  "kernelspec": {
   "display_name": "main",
   "language": "python",
   "name": "python3"
  },
  "language_info": {
   "codemirror_mode": {
    "name": "ipython",
    "version": 3
   },
   "file_extension": ".py",
   "mimetype": "text/x-python",
   "name": "python",
   "nbconvert_exporter": "python",
   "pygments_lexer": "ipython3",
   "version": "3.10.18"
  }
 },
 "nbformat": 4,
 "nbformat_minor": 5
}
