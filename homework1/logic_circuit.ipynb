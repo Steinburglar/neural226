{
 "cells": [
  {
   "cell_type": "code",
   "execution_count": 50,
   "id": "e34bb0e6",
   "metadata": {},
   "outputs": [
    {
     "name": "stdout",
     "output_type": "stream",
     "text": [
      "Fixed point reached in 4 steps.\n"
     ]
    },
    {
     "data": {
      "text/plain": [
       "array([1, 0, 1, 1, 1])"
      ]
     },
     "execution_count": 50,
     "metadata": {},
     "output_type": "execute_result"
    }
   ],
   "source": [
    "%reload_ext autoreload\n",
    "%autoreload 2\n",
    "import logic_circuit\n",
    "import numpy as np\n",
    "import pandas as pd\n",
    "\n",
    "state0 = np.array([0, 0, 0, 0, 0])\n",
    "params = {'w': 0.25, 'B': 0.5, 'alpha' : 0.5}\n",
    "\n",
    "fed_circuit = logic_circuit.Circuit(state0, params, fed=True)\n",
    "fed_circuit.search_fixed_point()"
   ]
  },
  {
   "cell_type": "code",
   "execution_count": 51,
   "id": "d80dbefe",
   "metadata": {},
   "outputs": [
    {
     "name": "stdout",
     "output_type": "stream",
     "text": [
      "Fixed point reached in 6 steps.\n"
     ]
    },
    {
     "data": {
      "text/plain": [
       "array([0, 1, 2, 0, 2])"
      ]
     },
     "execution_count": 51,
     "metadata": {},
     "output_type": "execute_result"
    }
   ],
   "source": [
    "starved_circuit = logic_circuit.Circuit(state0, params, fed=False)\n",
    "starved_circuit.search_fixed_point()"
   ]
  },
  {
   "cell_type": "code",
   "execution_count": 52,
   "id": "d7d1f0b5",
   "metadata": {},
   "outputs": [
    {
     "name": "stdout",
     "output_type": "stream",
     "text": [
      "[[ 0.   -1.   -0.25 -0.25 -0.25]\n",
      " [-0.25  0.   -0.25 -1.    0.  ]\n",
      " [ 0.    0.    0.    0.    1.  ]\n",
      " [ 0.    0.    0.    0.    0.  ]\n",
      " [ 0.    0.    0.    0.    0.  ]]\n",
      "[[ 0.   -1.   -0.25 -0.25 -0.25]\n",
      " [-0.25  0.   -0.25 -1.    0.  ]\n",
      " [ 0.    0.    0.    0.    1.  ]\n",
      " [ 0.    0.    0.    0.    0.  ]\n",
      " [ 0.    0.    0.    0.    0.  ]]\n",
      "Fixed point reached in 4 steps.\n",
      "Fixed point reached in 4 steps.\n",
      "Fixed point reached in 4 steps.\n",
      "Fixed point reached in 6 steps.\n",
      "Fixed point reached in 4 steps.\n",
      "Fixed point reached in 6 steps.\n",
      "Fixed point reached in 3 steps.\n",
      "Fixed point reached in 4 steps.\n"
     ]
    }
   ],
   "source": [
    "#initialized 8 diofferent circuits with different perturbations, 4 fed and 4 starved, package as dictionary\n",
    "fed_a = logic_circuit.Circuit(state0, params, fed=True)\n",
    "fed_a.inactive_csd()\n",
    "\n",
    "starved_a = logic_circuit.Circuit(state0, params, fed=False)\n",
    "starved_a.inactive_csd()\n",
    "\n",
    "fed_b = logic_circuit.Circuit(state0, params, fed=True)\n",
    "fed_b.inactivep_LN14()\n",
    "\n",
    "starved_b = logic_circuit.Circuit(state0, params, fed=False)\n",
    "starved_a.inactivep_LN14()\n",
    "\n",
    "fed_c = logic_circuit.Circuit(state0, params, fed=True)\n",
    "fed_c.block_pln0_14()\n",
    "\n",
    "starved_c = logic_circuit.Circuit(state0, params, fed=False)\n",
    "starved_c.block_pln0_14()\n",
    "\n",
    "fed_d = logic_circuit.Circuit(state0, params, fed=True)\n",
    "fed_d.block_pln14_0()\n",
    "\n",
    "starved_d = logic_circuit.Circuit(state0, params, fed=False)\n",
    "starved_d.block_pln14_0()\n",
    "\n",
    "#package as a dictionary\n",
    "circuits = {'Fed A': fed_a, 'Starved A': starved_a,\n",
    "            'Fed B': fed_b, 'Starved B': starved_b,\n",
    "            'Fed C': fed_c, 'Starved C': starved_c,\n",
    "            'Fed D': fed_d, 'Starved D': starved_d}\n",
    "\n",
    "#initialize a dictionary to store final states\n",
    "final_states = {key: None for key in circuits.keys()}\n",
    "#run search_fixed_point for each circuit in the dictionary\n",
    "\n",
    "for key, circ in circuits.items():\n",
    "    state = circ.search_fixed_point() #runs search, returns fixed points, prints output as well\n",
    "    final_states[key] = np.append(state, circ.y()) #store final states in dictionary"
   ]
  },
  {
   "cell_type": "code",
   "execution_count": 53,
   "id": "c9d7f407",
   "metadata": {},
   "outputs": [
    {
     "data": {
      "text/html": [
       "<div>\n",
       "<style scoped>\n",
       "    .dataframe tbody tr th:only-of-type {\n",
       "        vertical-align: middle;\n",
       "    }\n",
       "\n",
       "    .dataframe tbody tr th {\n",
       "        vertical-align: top;\n",
       "    }\n",
       "\n",
       "    .dataframe thead th {\n",
       "        text-align: right;\n",
       "    }\n",
       "</style>\n",
       "<table border=\"1\" class=\"dataframe\">\n",
       "  <thead>\n",
       "    <tr style=\"text-align: right;\">\n",
       "      <th></th>\n",
       "      <th>uPN</th>\n",
       "      <th>mPN</th>\n",
       "      <th>LN0</th>\n",
       "      <th>LN14</th>\n",
       "      <th>CSD</th>\n",
       "      <th>y</th>\n",
       "    </tr>\n",
       "    <tr>\n",
       "      <th>Perturbation</th>\n",
       "      <th></th>\n",
       "      <th></th>\n",
       "      <th></th>\n",
       "      <th></th>\n",
       "      <th></th>\n",
       "      <th></th>\n",
       "    </tr>\n",
       "  </thead>\n",
       "  <tbody>\n",
       "    <tr>\n",
       "      <th>Fed A</th>\n",
       "      <td>1</td>\n",
       "      <td>0</td>\n",
       "      <td>1</td>\n",
       "      <td>1</td>\n",
       "      <td>1</td>\n",
       "      <td>-1</td>\n",
       "    </tr>\n",
       "    <tr>\n",
       "      <th>Starved A</th>\n",
       "      <td>1</td>\n",
       "      <td>0</td>\n",
       "      <td>1</td>\n",
       "      <td>1</td>\n",
       "      <td>1</td>\n",
       "      <td>-1</td>\n",
       "    </tr>\n",
       "    <tr>\n",
       "      <th>Fed B</th>\n",
       "      <td>1</td>\n",
       "      <td>0</td>\n",
       "      <td>1</td>\n",
       "      <td>1</td>\n",
       "      <td>1</td>\n",
       "      <td>-1</td>\n",
       "    </tr>\n",
       "    <tr>\n",
       "      <th>Starved B</th>\n",
       "      <td>0</td>\n",
       "      <td>1</td>\n",
       "      <td>2</td>\n",
       "      <td>0</td>\n",
       "      <td>2</td>\n",
       "      <td>1</td>\n",
       "    </tr>\n",
       "    <tr>\n",
       "      <th>Fed C</th>\n",
       "      <td>1</td>\n",
       "      <td>0</td>\n",
       "      <td>1</td>\n",
       "      <td>1</td>\n",
       "      <td>1</td>\n",
       "      <td>-1</td>\n",
       "    </tr>\n",
       "    <tr>\n",
       "      <th>Starved C</th>\n",
       "      <td>0</td>\n",
       "      <td>1</td>\n",
       "      <td>2</td>\n",
       "      <td>0</td>\n",
       "      <td>2</td>\n",
       "      <td>1</td>\n",
       "    </tr>\n",
       "    <tr>\n",
       "      <th>Fed D</th>\n",
       "      <td>1</td>\n",
       "      <td>1</td>\n",
       "      <td>1</td>\n",
       "      <td>0</td>\n",
       "      <td>1</td>\n",
       "      <td>1</td>\n",
       "    </tr>\n",
       "    <tr>\n",
       "      <th>Starved D</th>\n",
       "      <td>0</td>\n",
       "      <td>1</td>\n",
       "      <td>2</td>\n",
       "      <td>0</td>\n",
       "      <td>2</td>\n",
       "      <td>1</td>\n",
       "    </tr>\n",
       "  </tbody>\n",
       "</table>\n",
       "</div>"
      ],
      "text/plain": [
       "              uPN  mPN  LN0  LN14  CSD  y\n",
       "Perturbation                             \n",
       "Fed A           1    0    1     1    1 -1\n",
       "Starved A       1    0    1     1    1 -1\n",
       "Fed B           1    0    1     1    1 -1\n",
       "Starved B       0    1    2     0    2  1\n",
       "Fed C           1    0    1     1    1 -1\n",
       "Starved C       0    1    2     0    2  1\n",
       "Fed D           1    1    1     0    1  1\n",
       "Starved D       0    1    2     0    2  1"
      ]
     },
     "metadata": {},
     "output_type": "display_data"
    }
   ],
   "source": [
    "#organizes the final results in a table\n",
    "df = pd.DataFrame.from_dict(final_states, orient='index', columns=['uPN', 'mPN', 'LN0', 'LN14', 'CSD', 'y'])\n",
    "df.index.name = 'Perturbation'\n",
    "display(df)\n"
   ]
  },
  {
   "cell_type": "markdown",
   "id": "e2e62d08",
   "metadata": {},
   "source": [
    "To do: run the 4 perturbations for fed and starved, generate 4 tables like in the pset"
   ]
  }
 ],
 "metadata": {
  "kernelspec": {
   "display_name": "main",
   "language": "python",
   "name": "python3"
  },
  "language_info": {
   "codemirror_mode": {
    "name": "ipython",
    "version": 3
   },
   "file_extension": ".py",
   "mimetype": "text/x-python",
   "name": "python",
   "nbconvert_exporter": "python",
   "pygments_lexer": "ipython3",
   "version": "3.10.18"
  }
 },
 "nbformat": 4,
 "nbformat_minor": 5
}
